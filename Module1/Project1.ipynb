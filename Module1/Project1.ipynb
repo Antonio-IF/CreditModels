{
 "cells": [
  {
   "cell_type": "markdown",
   "metadata": {},
   "source": [
    "<div class=\"image-container\">\n",
    "  <img class=\"image\" src=\"https://upload.wikimedia.org/wikipedia/commons/2/2d/Logo-ITESO-Vertical-SinFondo-png.png\" width=\"300\" height=\"300\" style=\"float: right\">\n",
    "</div>\n",
    "\n",
    "\n",
    "<p>\n",
    "    <font style = \"font-family:Cambria\">          \n",
    "    <h2><font color=\"#191970\" size = 6 >\n",
    "        001 Modelo de Puntuación crediticia\n",
    "    </font></h2>         \n",
    "    <br>         \n",
    "    <font color='navy' size = 6>Project 1. </font>\n",
    "    <br> \n",
    "    <h3><font size =4>Collaborators:</font></h3> \n",
    "    <ul>\n",
    "        <li>Diego Emilio Enriquez Nares</li>\n",
    "        <li>Ana Sofia Brizuela Casarin</li>\n",
    "        <li>Juan Antonio Mugica Liparoli</li>\n",
    "    </ul>               \n",
    "    </font>\n",
    "</p>"
   ]
  },
  {
   "cell_type": "markdown",
   "metadata": {},
   "source": []
  }
 ],
 "metadata": {
  "language_info": {
   "name": "python"
  }
 },
 "nbformat": 4,
 "nbformat_minor": 2
}
